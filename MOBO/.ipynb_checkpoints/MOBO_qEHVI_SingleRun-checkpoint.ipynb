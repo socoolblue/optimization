{
 "cells": [
  {
   "cell_type": "code",
   "execution_count": 10,
   "metadata": {},
   "outputs": [],
   "source": [
    "import torch\n",
    "import numpy as np\n",
    "from botorch.test_functions.multi_objective import BraninCurrin\n",
    "\n",
    "# Random data for SingleRun\n",
    "X_0=  [[0.8515, 0.3766, 0.8212, 0.9084, 0.3276, 0.7517],\n",
    "        [0.6297, 0.0696, 0.2308, 0.4856, 0.8348, 0.6648],\n",
    "        [0.3078, 0.5475, 0.8774, 0.3388, 0.1868, 0.3388],\n",
    "        [0.8828, 0.6211, 0.6741, 0.5662, 0.9072, 0.8055],\n",
    "        [0.6596, 0.7227, 0.5129, 0.8573, 0.4443, 0.9016],\n",
    "        [0.5880, 0.8788, 0.6542, 0.4132, 0.5447, 0.1844],\n",
    "        [0.1641, 0.0780, 0.9422, 0.1515, 0.0069, 0.8248],\n",
    "        [0.3790, 0.8004, 0.2205, 0.1577, 0.9179, 0.2594],\n",
    "        [0.1792, 0.5189, 0.1543, 0.1247, 0.9504, 0.8382],\n",
    "        [0.9152, 0.8470, 0.1418, 0.2757, 0.0469, 0.8386]]\n",
    "Y_0= [[-7.6157,   -7.6663],\n",
    "        [ -10.9987,   -6.9429],\n",
    "        [-7.9620,   -3.4366],\n",
    "        [-5.7011,  -10.1440],\n",
    "        [-5.4353,   -8.9274],\n",
    "        [-4.8603,   -6.8815],\n",
    "        [-13.4208,   -5.0611],\n",
    "        [-5.8837,   -3.9369],\n",
    "        [-8.4311,   -4.8428],\n",
    "        [-4.5770,   -6.1225]]\n",
    "\n",
    "bounds=[[0., 0., 0., 0., 0., 0.],\n",
    "        [1., 1., 1., 1., 1., 1.]]\n",
    "\n",
    "ref_point = [-20.,-10]\n",
    "\n",
    "ref_point_ = torch.FloatTensor(ref_point)\n",
    "bounds = torch.FloatTensor(bounds)\n",
    "dim = len(X_0[1])\n",
    "num_objectives = len(Y_0[1])"
   ]
  },
  {
   "cell_type": "code",
   "execution_count": 11,
   "metadata": {},
   "outputs": [],
   "source": [
    "from botorch.models.gp_regression import SingleTaskGP\n",
    "from botorch.models.transforms.outcome import Standardize\n",
    "from gpytorch.mlls.exact_marginal_log_likelihood import ExactMarginalLogLikelihood\n",
    "from botorch.utils.transforms import unnormalize\n",
    "from botorch.utils.sampling import draw_sobol_samples\n",
    "\n",
    "def generate_initial_data(n=dim):\n",
    "    # generate training data\n",
    "    train_x = torch.FloatTensor(X_0)\n",
    "    train_obj = torch.FloatTensor(Y_0)\n",
    "    return train_x, train_obj\n",
    "\n",
    "def initialize_model(train_x, train_obj):\n",
    "    # define models for objective and constraint\n",
    "    model = SingleTaskGP(train_x, train_obj, outcome_transform=Standardize(m=train_obj.shape[-1]))\n",
    "    mll = ExactMarginalLogLikelihood(model.likelihood, model)\n",
    "    return mll, model"
   ]
  },
  {
   "cell_type": "code",
   "execution_count": 12,
   "metadata": {},
   "outputs": [],
   "source": [
    "from botorch.optim.optimize import optimize_acqf, optimize_acqf_list\n",
    "from botorch.acquisition.objective import GenericMCObjective\n",
    "from botorch.utils.multi_objective.scalarization import get_chebyshev_scalarization\n",
    "from botorch.utils.multi_objective.box_decomposition import NondominatedPartitioning\n",
    "from botorch.acquisition.multi_objective.monte_carlo import qExpectedHypervolumeImprovement\n",
    "from botorch.utils.sampling import sample_simplex\n",
    "\n",
    "BATCH_SIZE = 2\n",
    "\n",
    "standard_bounds = torch.zeros(2, dim)\n",
    "standard_bounds[1] = 1\n",
    "\n",
    "\n",
    "def optimize_qehvi_and_get_observation(model, train_obj, sampler):\n",
    "    \"\"\"Optimizes the qEHVI acquisition function, and returns a new candidate and observation.\"\"\"\n",
    "    partitioning = NondominatedPartitioning(ref_point=ref_point_, Y=train_obj)\n",
    "    acq_func = qExpectedHypervolumeImprovement(\n",
    "        model=model,\n",
    "        ref_point=ref_point_.tolist(), \n",
    "        partitioning=partitioning,\n",
    "        sampler=sampler,\n",
    "    )\n",
    "    candidates, _ = optimize_acqf(\n",
    "        acq_function=acq_func,\n",
    "        bounds=standard_bounds,\n",
    "        q=BATCH_SIZE,\n",
    "        num_restarts=20,\n",
    "        raw_samples=1024,\n",
    "        options={\"batch_limit\": 5, \"maxiter\": 200, \"nonnegative\": True},\n",
    "        sequential=True,\n",
    "    )\n",
    "    new_x =  unnormalize(candidates.detach(), bounds=bounds)\n",
    "    new_obj = torch.FloatTensor([[  -6.7064,   -5.8886],\n",
    "        [ -51.7423,   -6.8102],\n",
    "        [ -38.3063,   -6.8469],\n",
    "        [ -13.4827,   -9.0434],\n",
    "        [ -10.3850,  -10.6817],\n",
    "        [ -27.7399,   -6.6023],\n",
    "        [ -64.7528,   -2.1669],\n",
    "        [-168.0079,   -4.3890],\n",
    "        [ -17.1416,  -10.4511],\n",
    "        [  -7.0856,   -5.5974]])\n",
    "\n",
    "    return new_x, new_obj\n"
   ]
  },
  {
   "cell_type": "code",
   "execution_count": 16,
   "metadata": {
    "scrolled": false
   },
   "outputs": [
    {
     "name": "stdout",
     "output_type": "stream",
     "text": [
      "\n",
      "Trial  1 of 1 \n",
      "Hypervolume is  96.67788696289062\n",
      "New Samples--------------------------------------------\n",
      "tensor([[0.2420, 0.8012, 0.3663, 0.1220, 0.6403, 0.3208],\n",
      "        [0.3302, 0.9604, 0.0482, 0.1003, 1.0000, 0.4150]])\n"
     ]
    }
   ],
   "source": [
    "from botorch import fit_gpytorch_model\n",
    "from botorch.acquisition.monte_carlo import qExpectedImprovement, qNoisyExpectedImprovement\n",
    "from botorch.sampling.samplers import SobolQMCNormalSampler\n",
    "from botorch.exceptions import BadInitialCandidatesWarning\n",
    "from botorch.utils.multi_objective.pareto import is_non_dominated\n",
    "from botorch.utils.multi_objective.hypervolume import Hypervolume\n",
    "import warnings\n",
    "warnings.filterwarnings('ignore', category=BadInitialCandidatesWarning)\n",
    "warnings.filterwarnings('ignore', category=RuntimeWarning)\n",
    "\n",
    "N_TRIALS = 1\n",
    "N_BATCH = 1\n",
    "MC_SAMPLES = 1024\n",
    "\n",
    "verbose = True\n",
    "\n",
    "hvs_qehvi_all = []\n",
    "\n",
    "hv = Hypervolume(ref_point = ref_point_)\n",
    "\n",
    "# average over multiple trials\n",
    "for trial in range(1, N_TRIALS + 1):\n",
    "    torch.manual_seed(trial)\n",
    "    \n",
    "    print(f\"\\nTrial {trial:>2} of {N_TRIALS} \", end=\"\\n\")\n",
    "    hvs_qehvi = []\n",
    "    train_x_qehvi, train_obj_qehvi = generate_initial_data(n=6)\n",
    "    mll_qehvi, model_qehvi = initialize_model(train_x_qehvi, train_obj_qehvi)\n",
    "    \n",
    "\n",
    "    pareto_mask = is_non_dominated(train_obj_qehvi)\n",
    "    pareto_y = train_obj_qehvi[pareto_mask]\n",
    "\n",
    "    volume = hv.compute(pareto_y)\n",
    "    hvs_qehvi.append(hvs_qehvi)\n",
    "   \n",
    "    print(\"Hypervolume is \", volume)\n",
    "    # run N_BATCH rounds of BayesOpt after the initial random batch\n",
    "    for iteration in range(1, N_BATCH + 1):    \n",
    "    \n",
    "        fit_gpytorch_model(mll_qehvi)\n",
    "        qehvi_sampler = SobolQMCNormalSampler(num_samples=MC_SAMPLES)\n",
    "\n",
    "        new_x_qehvi, new_obj_qehvi = optimize_qehvi_and_get_observation(\n",
    "            model_qehvi, train_obj_qehvi, qehvi_sampler\n",
    "        )      \n",
    "        \n",
    "        # update training points\n",
    "        train_x_qehvi = torch.cat([train_x_qehvi, new_x_qehvi])\n",
    "        train_obj_qehvi = torch.cat([train_obj_qehvi, new_obj_qehvi])\n",
    "        print(\"New Samples--------------------------------------------\")\n",
    "        print(train_x_qehvi[-BATCH_SIZE:])\n"
   ]
  },
  {
   "cell_type": "code",
   "execution_count": null,
   "metadata": {},
   "outputs": [],
   "source": []
  }
 ],
 "metadata": {
  "kernelspec": {
   "display_name": "Python 3",
   "language": "python",
   "name": "python3"
  },
  "language_info": {
   "codemirror_mode": {
    "name": "ipython",
    "version": 3
   },
   "file_extension": ".py",
   "mimetype": "text/x-python",
   "name": "python",
   "nbconvert_exporter": "python",
   "pygments_lexer": "ipython3",
   "version": "3.8.8"
  },
  "latex_envs": {
   "LaTeX_envs_menu_present": true,
   "autoclose": false,
   "autocomplete": true,
   "bibliofile": "biblio.bib",
   "cite_by": "apalike",
   "current_citInitial": 1,
   "eqLabelWithNumbers": true,
   "eqNumInitial": 1,
   "hotkeys": {
    "equation": "Ctrl-E",
    "itemize": "Ctrl-I"
   },
   "labels_anchors": false,
   "latex_user_defs": false,
   "report_style_numbering": false,
   "user_envs_cfg": false
  },
  "varInspector": {
   "cols": {
    "lenName": 16,
    "lenType": 16,
    "lenVar": 40
   },
   "kernels_config": {
    "python": {
     "delete_cmd_postfix": "",
     "delete_cmd_prefix": "del ",
     "library": "var_list.py",
     "varRefreshCmd": "print(var_dic_list())"
    },
    "r": {
     "delete_cmd_postfix": ") ",
     "delete_cmd_prefix": "rm(",
     "library": "var_list.r",
     "varRefreshCmd": "cat(var_dic_list()) "
    }
   },
   "types_to_exclude": [
    "module",
    "function",
    "builtin_function_or_method",
    "instance",
    "_Feature"
   ],
   "window_display": false
  }
 },
 "nbformat": 4,
 "nbformat_minor": 2
}
